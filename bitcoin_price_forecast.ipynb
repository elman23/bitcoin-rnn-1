{
 "cells": [
  {
   "cell_type": "markdown",
   "metadata": {},
   "source": [
    "# Bitcoin Price Forecast Using RNN"
   ]
  },
  {
   "cell_type": "markdown",
   "metadata": {},
   "source": [
    "We start with the imports we need."
   ]
  },
  {
   "cell_type": "code",
   "execution_count": 1,
   "metadata": {},
   "outputs": [
    {
     "name": "stderr",
     "output_type": "stream",
     "text": [
      "/var/folders/26/x2snc4md15x1tj5_mzlnj2qm0000gn/T/ipykernel_20847/1311057494.py:3: DeprecationWarning: \n",
      "Pyarrow will become a required dependency of pandas in the next major release of pandas (pandas 3.0),\n",
      "(to allow more performant data types, such as the Arrow string type, and better interoperability with other libraries)\n",
      "but was not found to be installed on your system.\n",
      "If this would cause problems for you,\n",
      "please provide us feedback at https://github.com/pandas-dev/pandas/issues/54466\n",
      "        \n",
      "  import pandas as pd\n"
     ]
    }
   ],
   "source": [
    "import math\n",
    "import numpy as np\n",
    "import pandas as pd\n",
    "\n",
    "from keras.layers import LSTM\n",
    "from keras.layers import Dense\n",
    "from keras.models import Sequential\n",
    "from sklearn.preprocessing import MinMaxScaler\n",
    "from sklearn.metrics import mean_squared_error, mean_absolute_error, mean_absolute_percentage_error\n",
    "from matplotlib import pyplot as plt"
   ]
  },
  {
   "cell_type": "markdown",
   "metadata": {},
   "source": [
    "Then, we load the data from a CSV file."
   ]
  },
  {
   "cell_type": "code",
   "execution_count": 2,
   "metadata": {},
   "outputs": [],
   "source": [
    "df = pd.read_csv('BTC.csv')"
   ]
  },
  {
   "cell_type": "markdown",
   "metadata": {},
   "source": [
    "Now, we get some insight into the data imported."
   ]
  },
  {
   "cell_type": "code",
   "execution_count": 3,
   "metadata": {},
   "outputs": [
    {
     "name": "stdout",
     "output_type": "stream",
     "text": [
      "<class 'pandas.core.frame.DataFrame'>\n",
      "RangeIndex: 4969 entries, 0 to 4968\n",
      "Data columns (total 6 columns):\n",
      " #   Column  Non-Null Count  Dtype  \n",
      "---  ------  --------------  -----  \n",
      " 0   ticker  4969 non-null   object \n",
      " 1   date    4969 non-null   object \n",
      " 2   open    4969 non-null   float64\n",
      " 3   high    4969 non-null   float64\n",
      " 4   low     4969 non-null   float64\n",
      " 5   close   4969 non-null   float64\n",
      "dtypes: float64(4), object(2)\n",
      "memory usage: 233.0+ KB\n"
     ]
    }
   ],
   "source": [
    "df.info()"
   ]
  },
  {
   "cell_type": "markdown",
   "metadata": {},
   "source": [
    "It is clear that the columns of interest are `open`, `high`, `low` and `close`; a very important column, moreover, is `date`. The column `ticker` has no interst for us now.\n",
    "\n",
    "Let's describe the `DataFrame`."
   ]
  },
  {
   "cell_type": "code",
   "execution_count": 4,
   "metadata": {},
   "outputs": [
    {
     "data": {
      "text/html": [
       "<div>\n",
       "<style scoped>\n",
       "    .dataframe tbody tr th:only-of-type {\n",
       "        vertical-align: middle;\n",
       "    }\n",
       "\n",
       "    .dataframe tbody tr th {\n",
       "        vertical-align: top;\n",
       "    }\n",
       "\n",
       "    .dataframe thead th {\n",
       "        text-align: right;\n",
       "    }\n",
       "</style>\n",
       "<table border=\"1\" class=\"dataframe\">\n",
       "  <thead>\n",
       "    <tr style=\"text-align: right;\">\n",
       "      <th></th>\n",
       "      <th>open</th>\n",
       "      <th>high</th>\n",
       "      <th>low</th>\n",
       "      <th>close</th>\n",
       "    </tr>\n",
       "  </thead>\n",
       "  <tbody>\n",
       "    <tr>\n",
       "      <th>count</th>\n",
       "      <td>4969.000000</td>\n",
       "      <td>4969.000000</td>\n",
       "      <td>4969.000000</td>\n",
       "      <td>4969.000000</td>\n",
       "    </tr>\n",
       "    <tr>\n",
       "      <th>mean</th>\n",
       "      <td>10467.520469</td>\n",
       "      <td>10729.255719</td>\n",
       "      <td>10185.582565</td>\n",
       "      <td>10478.199010</td>\n",
       "    </tr>\n",
       "    <tr>\n",
       "      <th>std</th>\n",
       "      <td>15351.652463</td>\n",
       "      <td>15729.945949</td>\n",
       "      <td>14934.180410</td>\n",
       "      <td>15362.245803</td>\n",
       "    </tr>\n",
       "    <tr>\n",
       "      <th>min</th>\n",
       "      <td>0.049510</td>\n",
       "      <td>0.049510</td>\n",
       "      <td>0.010000</td>\n",
       "      <td>0.049510</td>\n",
       "    </tr>\n",
       "    <tr>\n",
       "      <th>25%</th>\n",
       "      <td>225.290000</td>\n",
       "      <td>230.690000</td>\n",
       "      <td>220.360000</td>\n",
       "      <td>225.420000</td>\n",
       "    </tr>\n",
       "    <tr>\n",
       "      <th>50%</th>\n",
       "      <td>1507.770000</td>\n",
       "      <td>1572.890000</td>\n",
       "      <td>1485.010000</td>\n",
       "      <td>1516.760000</td>\n",
       "    </tr>\n",
       "    <tr>\n",
       "      <th>75%</th>\n",
       "      <td>13737.800000</td>\n",
       "      <td>14256.500000</td>\n",
       "      <td>13031.000000</td>\n",
       "      <td>13749.600000</td>\n",
       "    </tr>\n",
       "    <tr>\n",
       "      <th>max</th>\n",
       "      <td>67304.600000</td>\n",
       "      <td>68976.500000</td>\n",
       "      <td>66343.000000</td>\n",
       "      <td>67305.100000</td>\n",
       "    </tr>\n",
       "  </tbody>\n",
       "</table>\n",
       "</div>"
      ],
      "text/plain": [
       "               open          high           low         close\n",
       "count   4969.000000   4969.000000   4969.000000   4969.000000\n",
       "mean   10467.520469  10729.255719  10185.582565  10478.199010\n",
       "std    15351.652463  15729.945949  14934.180410  15362.245803\n",
       "min        0.049510      0.049510      0.010000      0.049510\n",
       "25%      225.290000    230.690000    220.360000    225.420000\n",
       "50%     1507.770000   1572.890000   1485.010000   1516.760000\n",
       "75%    13737.800000  14256.500000  13031.000000  13749.600000\n",
       "max    67304.600000  68976.500000  66343.000000  67305.100000"
      ]
     },
     "execution_count": 4,
     "metadata": {},
     "output_type": "execute_result"
    }
   ],
   "source": [
    "df.describe()"
   ]
  },
  {
   "cell_type": "markdown",
   "metadata": {},
   "source": [
    "It seems that there are no missing values: good. We can go on and start the data preparation."
   ]
  },
  {
   "cell_type": "code",
   "execution_count": 5,
   "metadata": {},
   "outputs": [
    {
     "name": "stderr",
     "output_type": "stream",
     "text": [
      "/var/folders/26/x2snc4md15x1tj5_mzlnj2qm0000gn/T/ipykernel_20847/3548298957.py:3: SettingWithCopyWarning: \n",
      "A value is trying to be set on a copy of a slice from a DataFrame\n",
      "\n",
      "See the caveats in the documentation: https://pandas.pydata.org/pandas-docs/stable/user_guide/indexing.html#returning-a-view-versus-a-copy\n",
      "  close_df.drop(['date'], axis=1, inplace=True)\n"
     ]
    },
    {
     "data": {
      "text/html": [
       "<div>\n",
       "<style scoped>\n",
       "    .dataframe tbody tr th:only-of-type {\n",
       "        vertical-align: middle;\n",
       "    }\n",
       "\n",
       "    .dataframe tbody tr th {\n",
       "        vertical-align: top;\n",
       "    }\n",
       "\n",
       "    .dataframe thead th {\n",
       "        text-align: right;\n",
       "    }\n",
       "</style>\n",
       "<table border=\"1\" class=\"dataframe\">\n",
       "  <thead>\n",
       "    <tr style=\"text-align: right;\">\n",
       "      <th></th>\n",
       "      <th>close</th>\n",
       "    </tr>\n",
       "    <tr>\n",
       "      <th>date</th>\n",
       "      <th></th>\n",
       "    </tr>\n",
       "  </thead>\n",
       "  <tbody>\n",
       "    <tr>\n",
       "      <th>2010-07-17</th>\n",
       "      <td>0.04951</td>\n",
       "    </tr>\n",
       "    <tr>\n",
       "      <th>2010-07-18</th>\n",
       "      <td>0.08584</td>\n",
       "    </tr>\n",
       "    <tr>\n",
       "      <th>2010-07-19</th>\n",
       "      <td>0.08080</td>\n",
       "    </tr>\n",
       "    <tr>\n",
       "      <th>2010-07-20</th>\n",
       "      <td>0.07474</td>\n",
       "    </tr>\n",
       "    <tr>\n",
       "      <th>2010-07-21</th>\n",
       "      <td>0.07921</td>\n",
       "    </tr>\n",
       "  </tbody>\n",
       "</table>\n",
       "</div>"
      ],
      "text/plain": [
       "              close\n",
       "date               \n",
       "2010-07-17  0.04951\n",
       "2010-07-18  0.08584\n",
       "2010-07-19  0.08080\n",
       "2010-07-20  0.07474\n",
       "2010-07-21  0.07921"
      ]
     },
     "execution_count": 5,
     "metadata": {},
     "output_type": "execute_result"
    }
   ],
   "source": [
    "close_df = df[['date', 'close']]\n",
    "close_df.index = close_df['date']\n",
    "close_df.drop(['date'], axis=1, inplace=True)\n",
    "close_df.head()"
   ]
  },
  {
   "cell_type": "markdown",
   "metadata": {},
   "source": [
    "Let's print the shape of our `DataFrame`."
   ]
  },
  {
   "cell_type": "code",
   "execution_count": 6,
   "metadata": {},
   "outputs": [
    {
     "data": {
      "text/plain": [
       "(4969, 1)"
      ]
     },
     "execution_count": 6,
     "metadata": {},
     "output_type": "execute_result"
    }
   ],
   "source": [
    "close_df.shape"
   ]
  },
  {
   "cell_type": "markdown",
   "metadata": {},
   "source": [
    "Now, the training and testing data.\n",
    "\n",
    "We plan to predict 30 days prices, thus we reserve the last 30 data in the `close_df` `DataFrame` for our predictions; we will use the other data as training data."
   ]
  },
  {
   "cell_type": "code",
   "execution_count": 7,
   "metadata": {},
   "outputs": [],
   "source": [
    "prediction_days = 30\n",
    "df_train = close_df[:len(close_df)-prediction_days]\n",
    "df_test = close_df[len(close_df)-prediction_days:]"
   ]
  },
  {
   "cell_type": "markdown",
   "metadata": {},
   "source": [
    "Then, we reshape the `training_set`."
   ]
  },
  {
   "cell_type": "code",
   "execution_count": 8,
   "metadata": {},
   "outputs": [],
   "source": [
    "training_set = df_train.values\n",
    "training_set = np.reshape(training_set, (len(training_set), 1))"
   ]
  },
  {
   "cell_type": "markdown",
   "metadata": {},
   "source": [
    "We need to scale the training data for the network."
   ]
  },
  {
   "cell_type": "code",
   "execution_count": 9,
   "metadata": {},
   "outputs": [],
   "source": [
    "scaler = MinMaxScaler()\n",
    "training_set = scaler.fit_transform(training_set)\n",
    "X_train = training_set[0:len(training_set)-1]\n",
    "y_train = training_set[1:len(training_set)]"
   ]
  },
  {
   "cell_type": "markdown",
   "metadata": {},
   "source": [
    "One more reshaping is needed."
   ]
  },
  {
   "cell_type": "code",
   "execution_count": 10,
   "metadata": {},
   "outputs": [],
   "source": [
    "X_train = np.reshape(X_train, (len(X_train), 1, 1))"
   ]
  },
  {
   "cell_type": "markdown",
   "metadata": {},
   "source": [
    "Let's have a look at the first values in `df_train`."
   ]
  },
  {
   "cell_type": "code",
   "execution_count": 11,
   "metadata": {},
   "outputs": [
    {
     "data": {
      "text/html": [
       "<div>\n",
       "<style scoped>\n",
       "    .dataframe tbody tr th:only-of-type {\n",
       "        vertical-align: middle;\n",
       "    }\n",
       "\n",
       "    .dataframe tbody tr th {\n",
       "        vertical-align: top;\n",
       "    }\n",
       "\n",
       "    .dataframe thead th {\n",
       "        text-align: right;\n",
       "    }\n",
       "</style>\n",
       "<table border=\"1\" class=\"dataframe\">\n",
       "  <thead>\n",
       "    <tr style=\"text-align: right;\">\n",
       "      <th></th>\n",
       "      <th>close</th>\n",
       "    </tr>\n",
       "    <tr>\n",
       "      <th>date</th>\n",
       "      <th></th>\n",
       "    </tr>\n",
       "  </thead>\n",
       "  <tbody>\n",
       "    <tr>\n",
       "      <th>2010-07-17</th>\n",
       "      <td>0.04951</td>\n",
       "    </tr>\n",
       "    <tr>\n",
       "      <th>2010-07-18</th>\n",
       "      <td>0.08584</td>\n",
       "    </tr>\n",
       "    <tr>\n",
       "      <th>2010-07-19</th>\n",
       "      <td>0.08080</td>\n",
       "    </tr>\n",
       "    <tr>\n",
       "      <th>2010-07-20</th>\n",
       "      <td>0.07474</td>\n",
       "    </tr>\n",
       "    <tr>\n",
       "      <th>2010-07-21</th>\n",
       "      <td>0.07921</td>\n",
       "    </tr>\n",
       "  </tbody>\n",
       "</table>\n",
       "</div>"
      ],
      "text/plain": [
       "              close\n",
       "date               \n",
       "2010-07-17  0.04951\n",
       "2010-07-18  0.08584\n",
       "2010-07-19  0.08080\n",
       "2010-07-20  0.07474\n",
       "2010-07-21  0.07921"
      ]
     },
     "execution_count": 11,
     "metadata": {},
     "output_type": "execute_result"
    }
   ],
   "source": [
    "df_train.head()"
   ]
  },
  {
   "cell_type": "markdown",
   "metadata": {},
   "source": [
    "Similarly, the first values in `df_test` are the following."
   ]
  },
  {
   "cell_type": "code",
   "execution_count": 12,
   "metadata": {},
   "outputs": [
    {
     "data": {
      "text/html": [
       "<div>\n",
       "<style scoped>\n",
       "    .dataframe tbody tr th:only-of-type {\n",
       "        vertical-align: middle;\n",
       "    }\n",
       "\n",
       "    .dataframe tbody tr th {\n",
       "        vertical-align: top;\n",
       "    }\n",
       "\n",
       "    .dataframe thead th {\n",
       "        text-align: right;\n",
       "    }\n",
       "</style>\n",
       "<table border=\"1\" class=\"dataframe\">\n",
       "  <thead>\n",
       "    <tr style=\"text-align: right;\">\n",
       "      <th></th>\n",
       "      <th>close</th>\n",
       "    </tr>\n",
       "    <tr>\n",
       "      <th>date</th>\n",
       "      <th></th>\n",
       "    </tr>\n",
       "  </thead>\n",
       "  <tbody>\n",
       "    <tr>\n",
       "      <th>2024-01-24</th>\n",
       "      <td>39854.9</td>\n",
       "    </tr>\n",
       "    <tr>\n",
       "      <th>2024-01-25</th>\n",
       "      <td>39934.7</td>\n",
       "    </tr>\n",
       "    <tr>\n",
       "      <th>2024-01-26</th>\n",
       "      <td>41897.5</td>\n",
       "    </tr>\n",
       "    <tr>\n",
       "      <th>2024-01-27</th>\n",
       "      <td>42155.1</td>\n",
       "    </tr>\n",
       "    <tr>\n",
       "      <th>2024-01-28</th>\n",
       "      <td>41827.3</td>\n",
       "    </tr>\n",
       "  </tbody>\n",
       "</table>\n",
       "</div>"
      ],
      "text/plain": [
       "              close\n",
       "date               \n",
       "2024-01-24  39854.9\n",
       "2024-01-25  39934.7\n",
       "2024-01-26  41897.5\n",
       "2024-01-27  42155.1\n",
       "2024-01-28  41827.3"
      ]
     },
     "execution_count": 12,
     "metadata": {},
     "output_type": "execute_result"
    }
   ],
   "source": [
    "df_test.head()"
   ]
  },
  {
   "cell_type": "markdown",
   "metadata": {},
   "source": [
    "Now we can initialize a LSTM RNN and train it.\n",
    "\n",
    "Here we take the hyperparameters as granted.\n",
    "\n",
    "The network will have:\n",
    "- an `LSTM` layer with 4 units and the sigmoid activation function;\n",
    "- a `Dense` layer with a single unit for the prediction output.\n",
    "\n",
    "We compile the model using the `adam` optimizer and Mean Squared Error as the loss function.\n",
    "\n",
    "Hyperparameters:\n",
    "- layer number: 2;\n",
    "- layer types: `LTSM`, `Dense`;\n",
    "- `LSTM` units: 4;\n",
    "- `Dense` units: 1;\n",
    "- optimizer: `adam`;\n",
    "- batch size: 5;\n",
    "- epochs: 100."
   ]
  },
  {
   "cell_type": "code",
   "execution_count": 13,
   "metadata": {},
   "outputs": [
    {
     "name": "stdout",
     "output_type": "stream",
     "text": [
      "Epoch 1/100\n",
      "988/988 [==============================] - 1s 799us/step - loss: 0.0794\n",
      "Epoch 2/100\n",
      "988/988 [==============================] - 1s 760us/step - loss: 0.0214\n",
      "Epoch 3/100\n",
      "988/988 [==============================] - 1s 759us/step - loss: 0.0075\n",
      "Epoch 4/100\n",
      "988/988 [==============================] - 1s 768us/step - loss: 0.0012\n",
      "Epoch 5/100\n",
      "988/988 [==============================] - 1s 794us/step - loss: 4.5118e-04\n",
      "Epoch 6/100\n",
      "988/988 [==============================] - 1s 784us/step - loss: 3.8679e-04\n",
      "Epoch 7/100\n",
      "988/988 [==============================] - 1s 797us/step - loss: 3.2490e-04\n",
      "Epoch 8/100\n",
      "988/988 [==============================] - 1s 759us/step - loss: 2.6360e-04\n",
      "Epoch 9/100\n",
      "988/988 [==============================] - 1s 766us/step - loss: 2.1575e-04\n",
      "Epoch 10/100\n",
      "988/988 [==============================] - 1s 757us/step - loss: 1.7839e-04\n",
      "Epoch 11/100\n",
      "988/988 [==============================] - 1s 811us/step - loss: 1.5226e-04\n",
      "Epoch 12/100\n",
      "988/988 [==============================] - 1s 759us/step - loss: 1.3666e-04\n",
      "Epoch 13/100\n",
      "988/988 [==============================] - 1s 764us/step - loss: 1.2758e-04\n",
      "Epoch 14/100\n",
      "988/988 [==============================] - 1s 800us/step - loss: 1.1810e-04\n",
      "Epoch 15/100\n",
      "988/988 [==============================] - 1s 756us/step - loss: 1.1320e-04\n",
      "Epoch 16/100\n",
      "988/988 [==============================] - 1s 794us/step - loss: 1.1027e-04\n",
      "Epoch 17/100\n",
      "988/988 [==============================] - 1s 770us/step - loss: 1.0898e-04\n",
      "Epoch 18/100\n",
      "988/988 [==============================] - 1s 762us/step - loss: 1.0726e-04\n",
      "Epoch 19/100\n",
      "988/988 [==============================] - 1s 783us/step - loss: 1.0610e-04\n",
      "Epoch 20/100\n",
      "988/988 [==============================] - 1s 767us/step - loss: 1.0655e-04\n",
      "Epoch 21/100\n",
      "988/988 [==============================] - 1s 769us/step - loss: 1.0480e-04\n",
      "Epoch 22/100\n",
      "988/988 [==============================] - 1s 804us/step - loss: 1.0597e-04\n",
      "Epoch 23/100\n",
      "988/988 [==============================] - 1s 757us/step - loss: 1.0410e-04\n",
      "Epoch 24/100\n",
      "988/988 [==============================] - 1s 757us/step - loss: 1.0571e-04\n",
      "Epoch 25/100\n",
      "988/988 [==============================] - 1s 764us/step - loss: 1.0560e-04\n",
      "Epoch 26/100\n",
      "988/988 [==============================] - 1s 757us/step - loss: 1.0313e-04\n",
      "Epoch 27/100\n",
      "988/988 [==============================] - 1s 758us/step - loss: 1.0333e-04\n",
      "Epoch 28/100\n",
      "988/988 [==============================] - 1s 764us/step - loss: 1.0385e-04\n",
      "Epoch 29/100\n",
      "988/988 [==============================] - 1s 766us/step - loss: 1.0295e-04\n",
      "Epoch 30/100\n",
      "988/988 [==============================] - 1s 768us/step - loss: 1.0427e-04\n",
      "Epoch 31/100\n",
      "988/988 [==============================] - 1s 782us/step - loss: 1.0283e-04\n",
      "Epoch 32/100\n",
      "988/988 [==============================] - 1s 795us/step - loss: 1.0100e-04\n",
      "Epoch 33/100\n",
      "988/988 [==============================] - 1s 784us/step - loss: 1.0317e-04\n",
      "Epoch 34/100\n",
      "988/988 [==============================] - 1s 759us/step - loss: 1.0282e-04\n",
      "Epoch 35/100\n",
      "988/988 [==============================] - 1s 760us/step - loss: 1.0123e-04\n",
      "Epoch 36/100\n",
      "988/988 [==============================] - 1s 792us/step - loss: 1.0258e-04\n",
      "Epoch 37/100\n",
      "988/988 [==============================] - 1s 760us/step - loss: 1.0074e-04\n",
      "Epoch 38/100\n",
      "988/988 [==============================] - 1s 959us/step - loss: 1.0132e-04\n",
      "Epoch 39/100\n",
      "988/988 [==============================] - 1s 764us/step - loss: 1.0144e-04\n",
      "Epoch 40/100\n",
      "988/988 [==============================] - 1s 765us/step - loss: 1.0185e-04\n",
      "Epoch 41/100\n",
      "988/988 [==============================] - 1s 849us/step - loss: 1.0198e-04\n",
      "Epoch 42/100\n",
      "988/988 [==============================] - 1s 758us/step - loss: 1.0122e-04\n",
      "Epoch 43/100\n",
      "988/988 [==============================] - 1s 770us/step - loss: 1.0323e-04\n",
      "Epoch 44/100\n",
      "988/988 [==============================] - 1s 868us/step - loss: 1.0022e-04\n",
      "Epoch 45/100\n",
      "988/988 [==============================] - 1s 1ms/step - loss: 1.0018e-04\n",
      "Epoch 46/100\n",
      "988/988 [==============================] - 1s 875us/step - loss: 1.0055e-04\n",
      "Epoch 47/100\n",
      "988/988 [==============================] - 1s 763us/step - loss: 9.9169e-05\n",
      "Epoch 48/100\n",
      "988/988 [==============================] - 1s 764us/step - loss: 1.0019e-04\n",
      "Epoch 49/100\n",
      "988/988 [==============================] - 1s 764us/step - loss: 1.0017e-04\n",
      "Epoch 50/100\n",
      "988/988 [==============================] - 1s 758us/step - loss: 1.0003e-04\n",
      "Epoch 51/100\n",
      "988/988 [==============================] - 1s 767us/step - loss: 9.9876e-05\n",
      "Epoch 52/100\n",
      "988/988 [==============================] - 1s 782us/step - loss: 1.0100e-04\n",
      "Epoch 53/100\n",
      "988/988 [==============================] - 1s 762us/step - loss: 1.0009e-04\n",
      "Epoch 54/100\n",
      "988/988 [==============================] - 1s 834us/step - loss: 1.0098e-04\n",
      "Epoch 55/100\n",
      "988/988 [==============================] - 1s 818us/step - loss: 9.9109e-05\n",
      "Epoch 56/100\n",
      "988/988 [==============================] - 1s 789us/step - loss: 1.0043e-04\n",
      "Epoch 57/100\n",
      "988/988 [==============================] - 1s 762us/step - loss: 9.9774e-05\n",
      "Epoch 58/100\n",
      "988/988 [==============================] - 1s 768us/step - loss: 9.8422e-05\n",
      "Epoch 59/100\n",
      "988/988 [==============================] - 1s 771us/step - loss: 9.9528e-05\n",
      "Epoch 60/100\n",
      "988/988 [==============================] - 1s 768us/step - loss: 9.8503e-05\n",
      "Epoch 61/100\n",
      "988/988 [==============================] - 1s 790us/step - loss: 9.9425e-05\n",
      "Epoch 62/100\n",
      "988/988 [==============================] - 1s 767us/step - loss: 9.9794e-05\n",
      "Epoch 63/100\n",
      "988/988 [==============================] - 1s 805us/step - loss: 9.8728e-05\n",
      "Epoch 64/100\n",
      "988/988 [==============================] - 1s 823us/step - loss: 9.9553e-05\n",
      "Epoch 65/100\n",
      "988/988 [==============================] - 1s 818us/step - loss: 9.8887e-05\n",
      "Epoch 66/100\n",
      "988/988 [==============================] - 1s 840us/step - loss: 9.7056e-05\n",
      "Epoch 67/100\n",
      "988/988 [==============================] - 1s 782us/step - loss: 9.9022e-05\n",
      "Epoch 68/100\n",
      "988/988 [==============================] - 1s 794us/step - loss: 9.7925e-05\n",
      "Epoch 69/100\n",
      "988/988 [==============================] - 1s 793us/step - loss: 9.9140e-05\n",
      "Epoch 70/100\n",
      "988/988 [==============================] - 1s 808us/step - loss: 9.7972e-05\n",
      "Epoch 71/100\n",
      "988/988 [==============================] - 1s 764us/step - loss: 9.9421e-05\n",
      "Epoch 72/100\n",
      "988/988 [==============================] - 1s 766us/step - loss: 9.7576e-05\n",
      "Epoch 73/100\n",
      "988/988 [==============================] - 1s 762us/step - loss: 9.7981e-05\n",
      "Epoch 74/100\n",
      "988/988 [==============================] - 1s 759us/step - loss: 9.7892e-05\n",
      "Epoch 75/100\n",
      "988/988 [==============================] - 1s 765us/step - loss: 9.9199e-05\n",
      "Epoch 76/100\n",
      "988/988 [==============================] - 1s 782us/step - loss: 9.7050e-05\n",
      "Epoch 77/100\n",
      "988/988 [==============================] - 1s 798us/step - loss: 9.9217e-05\n",
      "Epoch 78/100\n",
      "988/988 [==============================] - 1s 876us/step - loss: 9.8332e-05\n",
      "Epoch 79/100\n",
      "988/988 [==============================] - 1s 832us/step - loss: 9.7907e-05\n",
      "Epoch 80/100\n",
      "988/988 [==============================] - 1s 814us/step - loss: 9.8003e-05\n",
      "Epoch 81/100\n",
      "988/988 [==============================] - 1s 799us/step - loss: 9.9472e-05\n",
      "Epoch 82/100\n",
      "988/988 [==============================] - 1s 846us/step - loss: 9.6169e-05\n",
      "Epoch 83/100\n",
      "988/988 [==============================] - 1s 801us/step - loss: 9.7402e-05\n",
      "Epoch 84/100\n",
      "988/988 [==============================] - 1s 796us/step - loss: 9.8114e-05\n",
      "Epoch 85/100\n",
      "988/988 [==============================] - 1s 816us/step - loss: 9.7738e-05\n",
      "Epoch 86/100\n",
      "988/988 [==============================] - 1s 787us/step - loss: 9.6877e-05\n",
      "Epoch 87/100\n",
      "988/988 [==============================] - 1s 848us/step - loss: 9.7880e-05\n",
      "Epoch 88/100\n",
      "988/988 [==============================] - 1s 786us/step - loss: 9.6691e-05\n",
      "Epoch 89/100\n",
      "988/988 [==============================] - 1s 788us/step - loss: 9.7216e-05\n",
      "Epoch 90/100\n",
      "988/988 [==============================] - 1s 833us/step - loss: 9.7033e-05\n",
      "Epoch 91/100\n",
      "988/988 [==============================] - 1s 780us/step - loss: 9.8532e-05\n",
      "Epoch 92/100\n",
      "988/988 [==============================] - 1s 798us/step - loss: 9.7181e-05\n",
      "Epoch 93/100\n",
      "988/988 [==============================] - 1s 788us/step - loss: 9.7161e-05\n",
      "Epoch 94/100\n",
      "988/988 [==============================] - 1s 840us/step - loss: 9.8422e-05\n",
      "Epoch 95/100\n",
      "988/988 [==============================] - 1s 816us/step - loss: 9.7859e-05\n",
      "Epoch 96/100\n",
      "988/988 [==============================] - 1s 801us/step - loss: 9.5741e-05\n",
      "Epoch 97/100\n",
      "988/988 [==============================] - 1s 803us/step - loss: 9.8526e-05\n",
      "Epoch 98/100\n",
      "988/988 [==============================] - 1s 792us/step - loss: 9.8399e-05\n",
      "Epoch 99/100\n",
      "988/988 [==============================] - 1s 787us/step - loss: 9.6653e-05\n",
      "Epoch 100/100\n",
      "988/988 [==============================] - 1s 888us/step - loss: 9.7098e-05\n"
     ]
    },
    {
     "data": {
      "text/plain": [
       "<keras.src.callbacks.History at 0x29070d900>"
      ]
     },
     "execution_count": 13,
     "metadata": {},
     "output_type": "execute_result"
    }
   ],
   "source": [
    "regressor = Sequential()\n",
    "regressor.add(LSTM(units=4, activation='sigmoid', input_shape=(None, 1)))\n",
    "regressor.add(Dense(units=1))\n",
    "regressor.compile(optimizer='adam', loss='mean_squared_error')\n",
    "regressor.fit(X_train, y_train, batch_size=5, epochs=100)"
   ]
  },
  {
   "cell_type": "markdown",
   "metadata": {},
   "source": [
    "Now we want to use our model to make some prediction and evaluate it."
   ]
  },
  {
   "cell_type": "markdown",
   "metadata": {},
   "source": [
    "We start by rescaling the `test_set` into a new object `inputs`."
   ]
  },
  {
   "cell_type": "code",
   "execution_count": 14,
   "metadata": {},
   "outputs": [],
   "source": [
    "test_set = df_test.values\n",
    "inputs = np.reshape(test_set, (len(test_set), 1))\n",
    "inputs = scaler.transform(inputs)\n",
    "inputs = np.reshape(inputs, (len(inputs), 1, 1))"
   ]
  },
  {
   "cell_type": "markdown",
   "metadata": {},
   "source": [
    "We then make the predictions and we rescale them back."
   ]
  },
  {
   "cell_type": "code",
   "execution_count": 15,
   "metadata": {},
   "outputs": [
    {
     "name": "stdout",
     "output_type": "stream",
     "text": [
      "1/1 [==============================] - 0s 139ms/step\n"
     ]
    }
   ],
   "source": [
    "predicted_BTC_price = regressor.predict(inputs)\n",
    "predicted_BTC_price = scaler.inverse_transform(predicted_BTC_price)"
   ]
  },
  {
   "cell_type": "markdown",
   "metadata": {},
   "source": [
    "Let's calculate the errors in the predictions:\n",
    "- Root Mean Square Error;\n",
    "- Mean Absolute Error;\n",
    "- Mean Absolute Percentage Error."
   ]
  },
  {
   "cell_type": "code",
   "execution_count": 16,
   "metadata": {},
   "outputs": [
    {
     "name": "stdout",
     "output_type": "stream",
     "text": [
      "RMSE: 128.16661536773236\n",
      "MAE: 121.01190104166696\n",
      "MAPE: 0.0026391313527311237\n"
     ]
    }
   ],
   "source": [
    "print(f\"RMSE: {math.sqrt(mean_squared_error(test_set, predicted_BTC_price))}\")\n",
    "print(f\"MAE: {mean_absolute_error(test_set, predicted_BTC_price)}\")\n",
    "print(f\"MAPE: {mean_absolute_percentage_error(test_set, predicted_BTC_price)}\")"
   ]
  },
  {
   "cell_type": "markdown",
   "metadata": {},
   "source": [
    "Finally, we visualize the predicted values vs. the actual ones."
   ]
  },
  {
   "cell_type": "code",
   "execution_count": 17,
   "metadata": {},
   "outputs": [
    {
     "data": {
      "image/png": "[encoded data removed]",
      "text/plain": [
       "<Figure size 1250x750 with 1 Axes>"
      ]
     },
     "metadata": {},
     "output_type": "display_data"
    }
   ],
   "source": [
    "# Visualising the results\n",
    "plt.figure(figsize=(25, 15), dpi=50, facecolor='w', edgecolor='k')\n",
    "ax = plt.gca()\n",
    "plt.plot(test_set, color='green', label='Real BTC Value')\n",
    "plt.plot(predicted_BTC_price, color='red', label='Predicted BTC Price')\n",
    "plt.title('BTC Price Prediction', fontsize=20)\n",
    "df_test = df_test.reset_index()\n",
    "x = df_test.index\n",
    "labels = df_test['date']\n",
    "plt.xticks(x, labels, rotation='vertical')\n",
    "for tick in ax.xaxis.get_major_ticks():\n",
    "    tick.label1.set_fontsize(10)\n",
    "for tick in ax.yaxis.get_major_ticks():\n",
    "    tick.label1.set_fontsize(10)\n",
    "plt.xlabel('Time', fontsize=10)\n",
    "plt.ylabel('BTC Price(USD)', fontsize=20)\n",
    "plt.legend(loc=2, prop={'size': 25})\n",
    "plt.show()"
   ]
  },
  {
   "cell_type": "code",
   "execution_count": null,
   "metadata": {},
   "outputs": [],
   "source": []
  }
 ],
 "metadata": {
  "kernelspec": {
   "display_name": "RNN-for-BitCoin-price-prediction-csZJYk07",
   "language": "python",
   "name": "python3"
  },
  "language_info": {
   "codemirror_mode": {
    "name": "ipython",
    "version": 3
   },
   "file_extension": ".py",
   "mimetype": "text/x-python",
   "name": "python",
   "nbconvert_exporter": "python",
   "pygments_lexer": "ipython3",
   "version": "3.10.13"
  }
 },
 "nbformat": 4,
 "nbformat_minor": 2
}
